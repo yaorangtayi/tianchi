{
 "cells": [
  {
   "cell_type": "code",
   "execution_count": 11,
   "metadata": {
    "collapsed": true
   },
   "outputs": [],
   "source": [
    "import pandas as pd\n",
    "import numpy as np\n",
    "import warnings\n",
    "warnings.filterwarnings('ignore')"
   ]
  },
  {
   "cell_type": "code",
   "execution_count": 15,
   "metadata": {
    "collapsed": true
   },
   "outputs": [],
   "source": [
    "label=pd.read_csv('./data/entprise_info.csv')\n",
    "label.set_index(['id'],drop=False, inplace=True)\n",
    "data=pd.read_csv('./data/base_info.csv')\n",
    "data.drop(['congro','enttypeitem','enttypeminu','enttype','exenum','ptbusscope','forreccap','protype','parnum'],axis=1,inplace=True)\n",
    "train=data[data['id'].isin(label['id'])]\n",
    "temp=[]\n",
    "for index, row in train.iterrows():\n",
    "    temp.append(label.loc[row['id']]['label'])\n",
    "train['label']=temp\n",
    "test=data[~data['id'].isin(label['id'])]"
   ]
  },
  {
   "cell_type": "code",
   "execution_count": 16,
   "metadata": {
    "collapsed": true
   },
   "outputs": [],
   "source": [
    "train.to_csv('./Task2/train.csv',index=0, encoding='utf_8')\n",
    "test.to_csv('./Task2/test.csv',index=0, encoding='utf_8')"
   ]
  }
 ],
 "metadata": {
  "kernelspec": {
   "display_name": "Python 3",
   "language": "python",
   "name": "python3"
  },
  "language_info": {
   "codemirror_mode": {
    "name": "ipython",
    "version": 3
   },
   "file_extension": ".py",
   "mimetype": "text/x-python",
   "name": "python",
   "nbconvert_exporter": "python",
   "pygments_lexer": "ipython3",
   "version": "3.5.4"
  }
 },
 "nbformat": 4,
 "nbformat_minor": 2
}
